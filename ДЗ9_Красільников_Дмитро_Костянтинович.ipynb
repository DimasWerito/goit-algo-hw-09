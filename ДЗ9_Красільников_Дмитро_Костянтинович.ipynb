{
  "nbformat": 4,
  "nbformat_minor": 0,
  "metadata": {
    "colab": {
      "provenance": [],
      "authorship_tag": "ABX9TyPFGN7sSa4Cct9V1BsawrdR",
      "include_colab_link": true
    },
    "kernelspec": {
      "name": "python3",
      "display_name": "Python 3"
    },
    "language_info": {
      "name": "python"
    }
  },
  "cells": [
    {
      "cell_type": "markdown",
      "metadata": {
        "id": "view-in-github",
        "colab_type": "text"
      },
      "source": [
        "<a href=\"https://colab.research.google.com/github/DimasWerito/goit-algo-hw-09/blob/main/%D0%94%D0%979_%D0%9A%D1%80%D0%B0%D1%81%D1%96%D0%BB%D1%8C%D0%BD%D0%B8%D0%BA%D0%BE%D0%B2_%D0%94%D0%BC%D0%B8%D1%82%D1%80%D0%BE_%D0%9A%D0%BE%D1%81%D1%82%D1%8F%D0%BD%D1%82%D0%B8%D0%BD%D0%BE%D0%B2%D0%B8%D1%87.ipynb\" target=\"_parent\"><img src=\"https://colab.research.google.com/assets/colab-badge.svg\" alt=\"Open In Colab\"/></a>"
      ]
    },
    {
      "cell_type": "code",
      "execution_count": 1,
      "metadata": {
        "colab": {
          "base_uri": "https://localhost:8080/"
        },
        "id": "MP6jPxfi2Ak5",
        "outputId": "78cf4435-e905-4c96-9c70-60a557c1dbe3"
      },
      "outputs": [
        {
          "output_type": "stream",
          "name": "stdout",
          "text": [
            "Жадібний алгоритм: {50: 2, 10: 1, 2: 1, 1: 1}\n",
            "Динамічне програмування: {50: 2, 10: 1, 2: 1, 1: 1}\n"
          ]
        }
      ],
      "source": [
        "def find_coins_greedy(amount):\n",
        "    coins = [50, 25, 10, 5, 2, 1]\n",
        "    result = {}\n",
        "    for coin in coins:\n",
        "        if amount >= coin:\n",
        "            count = amount // coin\n",
        "            amount -= count * coin\n",
        "            result[coin] = count\n",
        "    return result\n",
        "\n",
        "def find_min_coins(amount):\n",
        "    coins = [1, 2, 5, 10, 25, 50]\n",
        "    min_coins = [float('inf')] * (amount + 1)\n",
        "    coin_used = [0] * (amount + 1)\n",
        "    min_coins[0] = 0\n",
        "\n",
        "    for coin in coins:\n",
        "        for i in range(coin, amount + 1):\n",
        "            if min_coins[i - coin] + 1 < min_coins[i]:\n",
        "                min_coins[i] = min_coins[i - coin] + 1\n",
        "                coin_used[i] = coin\n",
        "\n",
        "    result = {}\n",
        "    while amount > 0:\n",
        "        coin = coin_used[amount]\n",
        "        if coin in result:\n",
        "            result[coin] += 1\n",
        "        else:\n",
        "            result[coin] = 1\n",
        "        amount -= coin\n",
        "\n",
        "    return result\n",
        "\n",
        "# Приклад використання\n",
        "amount = 113\n",
        "print(\"Жадібний алгоритм:\", find_coins_greedy(amount))\n",
        "print(\"Динамічне програмування:\", find_min_coins(amount))\n"
      ]
    },
    {
      "cell_type": "markdown",
      "source": [
        "# Порівняння алгоритмів видачі решти\n",
        "\n",
        "## Жадібний алгоритм (find_coins_greedy)\n",
        "\n",
        "### Опис\n",
        "Жадібний алгоритм видачі решти спочатку вибирає монети найбільшого номіналу і продовжує до найменшого, поки не буде видана вся сума.\n",
        "\n",
        "### Ефективність\n",
        "- Простий та швидкий у реалізації.\n",
        "- Часова складність: O(n), де n - кількість номіналів монет.\n",
        "- Не завжди забезпечує оптимальне рішення, але часто працює добре для деяких валютних систем.\n",
        "\n",
        "## Алгоритм динамічного програмування (find_min_coins)\n",
        "\n",
        "### Опис\n",
        "Алгоритм динамічного програмування знаходить мінімальну кількість монет для видачі заданої суми. Він використовує таблицю для збереження мінімальної кількості монет для кожної проміжної суми.\n",
        "\n",
        "### Ефективність\n",
        "- Завжди забезпечує оптимальне рішення.\n",
        "- Часова складність: O(n * amount), де n - кількість номіналів монет, amount - сума.\n",
        "- Може бути повільнішим для великих сум через більшу складність.\n",
        "\n",
        "## Порівняння\n",
        "\n",
        "- Жадібний алгоритм може бути швидшим, але не завжди забезпечує оптимальне рішення. Він підходить для валютних систем, де жадібний підхід працює ефективно.\n",
        "- Алгоритм динамічного програмування завжди забезпечує оптимальне рішення, але може бути повільнішим для великих сум через його часову складність. Він є більш надійним для різних валютних систем і завжди знаходить найменшу кількість монет.\n",
        "- Для реальних застосувань, де важлива швидкість і прийнятність рішення, жадібний алгоритм може бути кращим вибором. Однак, якщо оптимальність є критично важливою, то варто використовувати алгоритм динамічного програмування.\n",
        "\n",
        "## Висновки\n",
        "\n",
        "Жадібний алгоритм є простим та швидким рішенням, яке підходить для більшості практичних випадків, але може не завжди забезпечити оптимальне рішення. Алгоритм динамічного програмування завжди знаходить оптимальне рішення, але потребує більше часу для виконання, особливо при великих сумах. Для вибору оптимального алгоритму слід враховувати конкретні вимоги та обмеження задачі.\n"
      ],
      "metadata": {
        "id": "cwbultdq2III"
      }
    }
  ]
}